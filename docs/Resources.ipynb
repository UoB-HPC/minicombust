{
 "cells": [
  {
   "cell_type": "markdown",
   "source": [
    "# Resources\n",
    "\n",
    "1. Jeremy Weckering,  (_Development of Numerical Modeling Methods for Prediction of Ignition Processes in Aero-Engines_), Dipl-Ing thesis (2010), available [here](https://d-nb.info/1011081369/34)\n",
    "2. Eva Verena Klapdor's 2010  Dr.-Ing. thesis (_Simulation of Combustor - Turbine Interaction in a Jet Engine_), available [here](https://d-nb.info/1105562603/34)\n",
    "<a id=\"computational-fluid-dynamics-in-industrial-combustion\"></a>\n",
    "3. Computational Fluid Dynamics in Industrial Combustion edited by Charles E. Baukal, Jr., Vladimir Gershtein, Xianming Jimmy Li --- Esp chapter 12 (Gas Turbines) and chapter 3 (Unstructured Mesh Methods for Combustion Problems)\n",
    "<a id=\"peric\">\n",
    "4. Ferziger, J.H., Peric, M. (2001), _Computational Methods for Fluid Dynamics_, ISBN 3540420746, 3rd Rev. Ed., Springer, Berlin. \n",
    "5. The Dolfyn Developer documentation is at https://www.dolfyn.net/dolfyn/files/devguide_sep2008.pdf and covers some theory, but a 2010 version is at https://www.scribd.com/document/503757573/dolfyn-devguide\n",
    "6. Mavriplis, D. J. (1997). Unstructured grid techniques. Annual Review of Fluid Mechanics, 29, 473–514. https://doi.org/10.1146/annurev.fluid.29.1.473\n",
    "7. Thari, A., Treleaven, N. C. W., Staufer, M., & Page, G. J. (2021). Parallel load-balancing for combustion with spray for large-scale simulation. Journal of Computational Physics, 434, 110187. https://doi.org/10.1016/j.jcp.2021.110187"
   ],
   "metadata": {}
  },
  {
   "cell_type": "markdown",
   "source": [],
   "metadata": {}
  }
 ],
 "metadata": {
  "orig_nbformat": 4,
  "language_info": {
   "name": "python"
  }
 },
 "nbformat": 4,
 "nbformat_minor": 2
}
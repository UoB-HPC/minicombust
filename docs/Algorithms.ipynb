{
 "cells": [
  {
   "cell_type": "markdown",
   "source": [
    "# SIMPLE with corrector steps\n",
    "\n",
    "\n",
    "SIMPLE slves the momentum equations for velocity using a guess for pressure field and face mass fluxes, after which mass fluxes are updated with the new velocity values. But these will not satisfy pressure continuity equatins.\n",
    "Flux correction a pressure correcton field.\n",
    "\n",
    "[Mostsly from CompFDInINdustrialComnustion]\n",
    "\n",
    "We use a sequential approach to solving the system of discretised PDEs (and particle tracking), i.e. we solve the governing equations one at a time. Picard iteration for non-linearities.\n",
    "\n",
    "From Dolfyn source:\n",
    "```\n",
    "!     This routine assembles and solves the pressure-correction\n",
    "!     equation using colocated grid. SIMPLE algorithm with one\n",
    "!     or more corrector steps (non-orthogonality effects taken\n",
    "!     into account as described in Sect. 8.8 of the corrected\n",
    "!     2nd printing.\n",
    "```\n",
    "\n",
    "We use co-located pressure and velocity points (i.e. at same locations in grid)\n",
    "\n",
    "What do we do to avoid chekerboarding? Add Rhie and Chow pressure dissipation term as in 8.8 of [Peric]"
   ],
   "metadata": {}
  },
  {
   "cell_type": "markdown",
   "source": [
    "# Linear Solvers\n",
    "\n",
    "Since MiniCombust relies on very large (very distributed) problems, the linear solvers used to solve the systems $A\\mathbf{x} = \\mathbf{b}$ (with A very sparse) must scale. As a results, we use iterative solvers.\n",
    "\n",
    "PetSc\n",
    "\n",
    "In addition, the discretise equations have non-linearities, so we must use several sweeps (updating the source terms and coefficients using current iteration values of $x$)\n",
    "\n",
    "Unlike with structured grid/stencil problems, $A$ does not have a specific band struture.\n",
    "\n",
    "Multigrid."
   ],
   "metadata": {}
  },
  {
   "cell_type": "markdown",
   "source": [],
   "metadata": {}
  }
 ],
 "metadata": {
  "orig_nbformat": 4,
  "language_info": {
   "name": "python"
  }
 },
 "nbformat": 4,
 "nbformat_minor": 2
}
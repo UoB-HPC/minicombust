{
 "cells": [
  {
   "cell_type": "code",
   "execution_count": 20,
   "source": [
    "import numpy as np\n",
    "from numpy.typing import NDArray\n",
    "from typing import Final\n",
    "\n",
    "from minicombust import Cell, Face, Geometry"
   ],
   "outputs": [],
   "metadata": {}
  },
  {
   "cell_type": "markdown",
   "source": [
    "# SIMPLE with corrector steps\n",
    "\n",
    "\n",
    "SIMPLE slves the momentum equations for velocity using a guess for pressure field and face mass fluxes, after which mass fluxes are updated with the new velocity values. But these will not satisfy pressure continuity equatins.\n",
    "Flux correction a pressure correcton field.\n",
    "\n",
    "[Mostsly from CompFDInINdustrialComnustion]\n",
    "\n",
    "We use a sequential approach to solving the system of discretised PDEs (and particle tracking), i.e. we solve the governing equations one at a time. Picard iteration for non-linearities.\n",
    "\n",
    "From Dolfyn source:\n",
    "```\n",
    "!     This routine assembles and solves the pressure-correction\n",
    "!     equation using colocated grid. SIMPLE algorithm with one\n",
    "!     or more corrector steps (non-orthogonality effects taken\n",
    "!     into account as described in Sect. 8.8 of the corrected\n",
    "!     2nd printing.\n",
    "```\n",
    "\n",
    "We use co-located pressure and velocity points (i.e. at same locations in grid)\n",
    "\n",
    "What do we do to avoid chekerboarding? Add Rhie and Chow pressure dissipation term as in 8.8 of [Peric]"
   ],
   "metadata": {}
  },
  {
   "cell_type": "markdown",
   "source": [
    "# Linear Solvers\n",
    "\n",
    "Since MiniCombust relies on very large (very distributed) problems, the linear solvers used to solve the systems $A\\mathbf{x} = \\mathbf{b}$ (with A very sparse) must scale. As a results, we use iterative solvers.\n",
    "\n",
    "PetSc\n",
    "\n",
    "In addition, the discretise equations have non-linearities, so we must use several sweeps (updating the source terms and coefficients using current iteration values of $x$)\n",
    "\n",
    "Unlike with structured grid/stencil problems, $A$ does not have a specific band struture.\n",
    "\n",
    "Multigrid."
   ],
   "metadata": {}
  },
  {
   "cell_type": "markdown",
   "source": [
    "# Determining whether a particle is in a cell\n",
    "We use the cell face normals (positive out) and a normalised position vector from the particle's position to the face centre.\n",
    "Calculate dot product with cell face centre.\n",
    "Result: 0 on face, positive inside, negative outside.\n",
    "\n",
    "Check for all cell faces whether any one is negative.\n"
   ],
   "metadata": {}
  },
  {
   "cell_type": "markdown",
   "source": [
    "# Calculating gradients\n",
    "\n",
    "\n",
    "MiniCombust uses [Gauss's Divergence Theorem](https://en.wikipedia.org/wiki/Divergence_theorem) to calculate the gradients in diffusive flux terms.\n",
    "The divergence theorem allows us to express the flux of a vector field through the surface in terms of the divergence of the field in the volume enclosed.\n",
    "\n",
    "\n",
    "$$\n",
    "\\int_V (\\nabla \\cdot \\mathbf{\\Phi}) dV = \\oint_S \\mathbf{\\Phi} d\\vec{s}\n",
    "$$\n",
    "\n",
    "or in terms of discrete faces:\n",
    "\n",
    "$$\n",
    "(grad \\mathbf{\\Phi})_P \\approx \\frac{1}{V_P}\\sum_{j=1}^{n}\\Phi_j \\vec{s_j}\n",
    "$$\n",
    "\n",
    "with $\\Phi_j$ the value stored at the centre of face $j$\n",
    "\n",
    "During gradient calculation, we also perform a deferred correction by adjusting the coordinates by weighting the adjacent cells' contributions using the face's interpolation factor property ($\\lambda$).\n",
    "This is described in [Peric](Resources.ipynb/#peric) in §8.6.2 (Approximation of Diffusive fluxes). \n",
    "\n",
    "Once the gradient has been calculated, we can apply an appropriate slope limiter, in case of bad meshes.\n",
    "\n",
    "TODO: Discuss Slope limiters? Barth and Jespersen, Venkatakrishnan, Mavriplis, Aftosmis etc.\n",
    "\n",
    "Refer to\n",
    "https://core.ac.uk/download/pdf/10513971.pdf\n",
    "\n",
    "Note that we limit the number of passes of gradient estimation to 2."
   ],
   "metadata": {}
  },
  {
   "cell_type": "code",
   "execution_count": 21,
   "source": [
    "NumPassesOfGaussGradientEstimation: Final[int] = 2.\n",
    "\n",
    "def gradient(mesh: Geometry, Φ: NDArray[np.float64]) -> NDArray[np.float64]:\n",
    "    \"\"\"\n",
    "\n",
    "        Notes\n",
    "        -----\n",
    "        Based on GradientPhiGauss and GradientPhi in Dolfyn (gradients.f90)\n",
    "    \"\"\"\n",
    "    assert(Φ.ndim == 1) # 1D array of length mesh.numCells + mesh.numBoundaries\n",
    "    assert(len(Φ) ==  mesh.num_cells + mesh.num_boundaries)\n",
    "    dΦdX = np.zeros((Φ.shape[0], 3)) # dΦdX will have 3 elems for every one of Φ\n",
    "    dΦdX_corrections = np.zeros((Φ.shape[0], 3)) \n",
    "\n",
    "    \n",
    "    for _ in range(NumPassesOfGaussGradientEstimation):\n",
    "        for face in mesh.faces:\n",
    "            cell1, cell2 = face.adjacent_cells\n",
    "            is_boundary_face = cell2 is None\n",
    "            if not is_boundary_face:\n",
    "                λ_cell1, λ_cell2 = 1 - face.interpolation_factor, face.interpolation_factor\n",
    "                # TODO is it worth precomputing this weighted corrected coord and storing in face?\n",
    "                # Correction to face using interpolation factor \n",
    "                corrected_coords = cell1.coords * λ_cell1 + cell2.coords * λ_cell2 \n",
    "                dΦdX_corrected = dΦdX_corrections[cell1.local_id, :] * λ_cell1 +  dΦdX_corrections[cell2.local_id, :] * λ_cell2 \n",
    "\n",
    "                # Now gradient at shifted position is knonw\n",
    "                # Correct the value at the cell face centre\n",
    "                Φ_face = Φ[cell1.local_id] * λ_cell1 + Φ[cell2.local_id] * λ_cell2 # standard\n",
    "                Δ = dΦdX_corrected.T * face.centre_coords - corrected_coords # corrected\n",
    "                Φ_face += Δ\n",
    "\n",
    "                # now only the value at the face center is known\n",
    "                # multiply it by the area-components\n",
    "                # this is basically Gauss' theorem\n",
    "                dΦdX[cell1.local_id,:] = dΦdX[cell1.local_id,:] + Φ_face * face.normal_components\n",
    "                dΦdX[cell2.local_id,:] = dΦdX[cell2.local_id,:] - Φ_face * face.normal_components\n",
    "\n",
    "            else: # it's a boundary face\n",
    "                Φ_face = Φ[mesh.num_cells + face.boundary_id]\n",
    "                dΦdX[cell1.local_id, :] +=  Φ_face * face.normal_components\n",
    "        dΦdX_corrections[:] = dΦdX\n",
    "        # OR  for  under relaxation\n",
    "        # dΦdX_corrections[:] = dΦdX_corrections[:] + 0.95*( dΦdX - dΦdX_corrections)\n",
    "\n",
    "    # normalise by cell volume dΦdX \n",
    "    inv_cell_volumes = [1. / mesh.cells[i].volume for i in mesh.cells]\n",
    "    dΦdX *= inv_cell_volumes\n",
    "\n",
    "    return dΦdX\n",
    "\n",
    "\n",
    "    "
   ],
   "outputs": [],
   "metadata": {}
  },
  {
   "cell_type": "markdown",
   "source": [],
   "metadata": {}
  }
 ],
 "metadata": {
  "orig_nbformat": 4,
  "language_info": {
   "name": "python",
   "version": "3.9.6",
   "mimetype": "text/x-python",
   "codemirror_mode": {
    "name": "ipython",
    "version": 3
   },
   "pygments_lexer": "ipython3",
   "nbconvert_exporter": "python",
   "file_extension": ".py"
  },
  "kernelspec": {
   "name": "python3",
   "display_name": "Python 3.9.6 64-bit"
  },
  "interpreter": {
   "hash": "aee8b7b246df8f9039afb4144a1f6fd8d2ca17a180786b69acc140d282b71a49"
  }
 },
 "nbformat": 4,
 "nbformat_minor": 2
}
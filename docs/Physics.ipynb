{
 "metadata": {
  "language_info": {
   "codemirror_mode": {
    "name": "ipython",
    "version": 3
   },
   "file_extension": ".py",
   "mimetype": "text/x-python",
   "name": "python",
   "nbconvert_exporter": "python",
   "pygments_lexer": "ipython3",
   "version": 3
  },
  "orig_nbformat": 4
 },
 "nbformat": 4,
 "nbformat_minor": 2,
 "cells": [
  {
   "cell_type": "markdown",
   "source": [
    "# Physics in MiniCombust\n",
    "\n",
    "The physics involved in modelling combustion are challenging, since the range of timescales and 'Kolmogorov scale length'? is so large\n",
    "\n",
    "\n",
    "Scalar Transport Equation\n",
    "* Transient term\n",
    "* Convection term\n",
    "* Diffusion term\n",
    "* Source term\n",
    "\n",
    "How does this relate to Navier-Stokes?\n",
    "\n",
    "\n",
    "Discretisatin of the terms\n",
    "\n",
    "## Fluid dynamics and transport\n",
    "MiniCombust solves the _incompressible_  Navier-Stokes equations.\n",
    "\n",
    "Low Reynolds/mach numbers\n",
    "\n",
    "\n",
    "Over-relaxed correction of the diffusive term ( https://www.cfd-online.com/Wiki/Discretization_of_the_diffusion_term)\n",
    "\n",
    "\n",
    "### Pressure correction \n",
    "\n",
    "### Turbulence model\n",
    "\n",
    "The simple closure model is k-e RANS?\n",
    "\n",
    "Relaxation?\n",
    "\n",
    "### Convection scheme\n",
    "\n",
    "Second-order central differencing (linear interpolation)\n",
    "\n",
    "\n",
    "## Heat transfer\n",
    "\n",
    "## Fuel\n",
    "\n",
    "Fuel reppresented by Lagrangian particles\n",
    "\n",
    "Methane\n",
    "\n",
    "## Spray\n",
    "\n",
    "### Eddy breakup\n",
    "\n",
    "### Atomisation\n",
    "\n",
    "\n",
    "## Emissions\n",
    "### NOx\n",
    "### Soot\n",
    "\n",
    "\n",
    "## Combustion Chemistry\n",
    "\n",
    "## "
   ],
   "metadata": {}
  },
  {
   "cell_type": "markdown",
   "source": [
    "## Governing Equations\n",
    "\n",
    "Following the discussion in chapter 3 of [ComputationalFluidDynamicsInIndustrialCombustion] we have\n",
    "Reynolds-averaged"
   ],
   "metadata": {}
  },
  {
   "cell_type": "markdown",
   "source": [
    "## Continuity\n",
    "Reynolds-averaged mixture continuity\n",
    "\n",
    "$\\frac{\\partial}{\\partial t}(\\rho) + \\nabla\\cdot(\\rho\\mathbf{V}) = S_m$\n",
    "\n",
    "* $t$ time\n",
    "* $\\rho$ Reynolds-averaged mixture density\n",
    "* $\\mathbf{V}$ Reynolds-averaged velocity vector\n",
    "* $S_m$ external mass sources\n"
   ],
   "metadata": {}
  },
  {
   "cell_type": "markdown",
   "source": [
    "## Momentum\n",
    "Reynolds-averagedd gas-phase momentum\n",
    "\n",
    "$$\n",
    "\\frac{\\partial}{\\partial t}(\\rho\\mathbf{V}) + \\nabla\\cdot(\\rho\\mathbf{VV}) = \\nabla\\cdot((\\mu + \\mu_t)\\nabla\\mathbf{V}) + \\mathbf{F}\n",
    "$$\n",
    "\n",
    "* $\\mu_t$ turbulent viscosity (from turbulence model)\n",
    "* $\\mathbf{F}$ stress term and other momentum sources (e.g. drag)\n"
   ],
   "metadata": {}
  },
  {
   "cell_type": "markdown",
   "source": [
    "\n",
    "### Energy\n",
    "Energy conservation equation:\n",
    "\n",
    "$$\n",
    "\\frac{\\partial}{\\partial t}(\\rho E) + \\nabla \\cdot(\\rho \\mathbf{V} E) = \\nabla \\cdot\n",
    "((k + k_t)\\nabla T) + \\nabla \\cdot (\\tau \\cdot \\mathbf{V}) - \\nabla \\cdot (p \\mathbf{V}) + S_r + S_h\n",
    "$$\n",
    "\n",
    "See [the equation for $S_r$ below](#radiative-heat-transfer).\n",
    "\n",
    "* $k$ thermal conductivity\n",
    "* $k_t$ turbulent thermal conductivity (from turbulence model)\n",
    "* $\\tau$ stress tensor\n",
    "* $p$ pressure\n",
    "* $E$ total energy\n",
    "* $e$ internal energy per unit mass\n",
    "* $S_r$ radiative heat soure\n",
    "* $S_h$ reaction source terms and other heat sources\n"
   ],
   "metadata": {}
  },
  {
   "cell_type": "markdown",
   "source": [
    "<a id=\"radiative-heat-transfer\"></a>\n",
    "### Radiative (heat) tranfer \n",
    "\n",
    "Radiative transfer equation, no radiation-turbulence interaction\n",
    "\n",
    "$$\n",
    "\\nabla \\cdot (I(\\mathbf{s})\\mathbf{s}) = -(\\kappa + \\sigma_s)I(\\mathbf{s}) + B(\\mathbf{s})\n",
    "$$, with\n",
    "\n",
    "$$\n",
    "B(\\mathbf{s}) = \\kappa I_B + \\frac{\\sigma_s}{4\\pi}\\int_{4\\pi}I(\\mathbf{s}')\\Phi(\\mathbf{s}', \\mathbf{s})d\\Omega'\n",
    "$$, \n",
    "and the term in the Energy Equation above\n",
    "\n",
    "$$\n",
    "S_r = \\kappa\\int_{4 pi}[I(\\mathbf{s} - I_B)]d\\Omega\n",
    "$$\n",
    "\n",
    "* $I(\\mathbf{s})$ radiant intensity in the direction $\\mathbf{s}$\n",
    "* $\\kappa$, absorption coefficient\n",
    "* $\\sigma_s$, scattering coefficient\n",
    "* $I_B$ blackbody intensity\n",
    "* \\Phi, scattering phase function"
   ],
   "metadata": {}
  },
  {
   "cell_type": "markdown",
   "source": [
    "## Turbulence modelling\n",
    "MiniCombust only supports the [$k-\\epsilon turbulence model$](https://en.wikipedia.org/wiki/K-epsilon_turbulence_model), which adds two transport equations to the set of PDEs:\n",
    "\n",
    "* Turbulent kinetic energy ($k$)\n",
    "\n",
    "$$\n",
    "\\frac{\\partial}{\\partial t}{\\rho k} + \\nabla \\cdot (\\rho \\mathbf{V} k) = \\nabla \\cdot \\left( \\frac{(\\mu + \\mu_t)}{\\sigma_k} \\nabla k \\right) + G_k - \\rho \\epsilon\n",
    "$$\n",
    "\n",
    "* Dissipation ($\\epsilon$)"
   ],
   "metadata": {}
  },
  {
   "cell_type": "markdown",
   "source": [
    "## Species transport\n"
   ],
   "metadata": {}
  },
  {
   "cell_type": "markdown",
   "source": [
    "## Mixture fraction \n"
   ],
   "metadata": {}
  },
  {
   "cell_type": "markdown",
   "source": [
    "## Dispersed phase model (particles)\n"
   ],
   "metadata": {}
  },
  {
   "cell_type": "markdown",
   "source": [],
   "metadata": {}
  }
 ]
}
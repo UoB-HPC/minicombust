{
 "metadata": {
  "language_info": {
   "codemirror_mode": {
    "name": "ipython",
    "version": 3
   },
   "file_extension": ".py",
   "mimetype": "text/x-python",
   "name": "python",
   "nbconvert_exporter": "python",
   "pygments_lexer": "ipython3",
   "version": 3
  },
  "orig_nbformat": 4
 },
 "nbformat": 4,
 "nbformat_minor": 2,
 "cells": [
  {
   "cell_type": "markdown",
   "source": [
    "# Dolfyn's influence on MiniCombust\n",
    "\n",
    "There's a lot about the core flow solver and Langrangian particle interaction that is heavily inspired by [Dolfyn](https://www.dolfyn.net/index_en.html), an open-source fluid solver written in Fortran. Dolfyn is a face-based, implicit solver that  uses the Finite Volume Method for solving flow equations on unstructured 3D general polyhedral meshes.\n",
    "\n",
    "## Why Dolfyn?\n",
    "* Dolfyn is mature, stable, small and well-tested\n",
    "* Most importantly, Dolfyn's code forms the core of the proprietary industrial solver which MiniCombust was built to investigate.\n",
    "* Dolfyn describes efficient data structures for representing the unstructured computational meshes and how they can be used in massively parallel simulations. We re-use these in MiniCombust\n"
   ],
   "metadata": {}
  },
  {
   "cell_type": "markdown",
   "source": [
    "## Dolfyn documentation\n",
    "* Sadly, Dolfyn isn't actively maintained. The last official release was in April 2009, and there is no evidence of development since 2010.  \n",
    "* Dolfyn is heavily based on the textbook Ferziger, J.H., Peric, M. (2001), _Computational Methods for Fluid Dynamics_, ISBN 3540420746, 3rd Rev. Ed., Springer, Berlin. It makes sense to get a copy if you need dto work on this code.\n",
    "*  The Dolfyn Developer documentation is at https://www.dolfyn.net/dolfyn/files/devguide_sep2008.pdf and covers some theory, but a 2010 version is at https://www.scribd.com/document/503757573/dolfyn-devguide\n"
   ],
   "metadata": {}
  },
  {
   "cell_type": "markdown",
   "source": [
    "\n",
    "## Other useful documentation about PRECISE-UNS\n",
    "*  Jeremy Weckering's 2010 Dipl-Ing thesis (_Development of Numerical Modeling Methods for Prediction of Ignition Processes in Aero-Engines_), available [here](https://d-nb.info/1011081369/34) describes the combustion physics, \n",
    "modelling and numerical computation in PRECISE-UNS\n",
    "* Eva Verena Klapdor's 2010  Dr.-Ing. thesis (_Simulation of Combustor - Turbine Interaction in a Jet Engine_), available [here](https://d-nb.info/1105562603/34)\n",
    "* Computational Fluid Dynamics in Industrial Combustion\n",
    "edited by Charles E. Baukal, Jr., Vladimir Gershtein, Xianming Jimmy Li --- Esp chapter 12 (Gas Turbines) and chapter 3 (Unstructured Mesh Methods for Combustion Problems)\n"
   ],
   "metadata": {}
  },
  {
   "cell_type": "code",
   "execution_count": null,
   "source": [],
   "outputs": [],
   "metadata": {}
  }
 ]
}
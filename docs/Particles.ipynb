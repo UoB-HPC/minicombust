{
 "cells": [
  {
   "cell_type": "markdown",
   "source": [
    "# Particles\n",
    "\n",
    "Here we describe much more about particles, and how they're integrated into fluid flow.\n",
    "\n",
    "\n",
    "[This paper](Resources.ipynb/#load-balancing)\n",
    "\n",
    "\n",
    "## Coupling the Eulerian and Lagrangian models\n",
    "\n",
    "\n",
    "At each timestep, some of the fuel spray converts to vapour. This must be incorporated in the mass conservation equation as a new source term, which we call $\\dot{m_d}$\n",
    "\n",
    "$$\n",
    "\\dot{m_d} = \\sum_{i=1}^{N_d} \\left( \\frac{dm_d}{dt} \\right)\n",
    "$$\n",
    "\n",
    "* $N_d$ the number of droplets\n",
    "\n",
    "\n",
    "We also need to add this to the mixture fraction equation:\n",
    "\n",
    "$$\n",
    "\n",
    "$$"
   ],
   "metadata": {}
  },
  {
   "cell_type": "markdown",
   "source": [
    " "
   ],
   "metadata": {}
  },
  {
   "cell_type": "markdown",
   "source": [],
   "metadata": {}
  }
 ],
 "metadata": {
  "orig_nbformat": 4,
  "language_info": {
   "name": "python"
  }
 },
 "nbformat": 4,
 "nbformat_minor": 2
}
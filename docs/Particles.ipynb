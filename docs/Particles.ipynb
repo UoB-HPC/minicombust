{
 "cells": [
  {
   "cell_type": "markdown",
   "source": [
    "# Particles\n",
    "\n",
    "Here we describe much more about particles, and how they're integrated into fluid flow.\n",
    "\n",
    "\n",
    "[This paper](Resources.ipynb/#load-balancing)\n"
   ],
   "metadata": {}
  }
 ],
 "metadata": {
  "orig_nbformat": 4,
  "language_info": {
   "name": "python"
  }
 },
 "nbformat": 4,
 "nbformat_minor": 2
}
{
 "cells": [
  {
   "cell_type": "markdown",
   "source": [
    "# Notes in progress\n",
    "\n",
    "* Ali Thari in his load-balancing paper describes a LES-based model using FGM in PRECISE. This is massively different from our proposed RANS-based, ??? combustion model."
   ],
   "metadata": {}
  }
 ],
 "metadata": {
  "orig_nbformat": 4,
  "language_info": {
   "name": "python"
  }
 },
 "nbformat": 4,
 "nbformat_minor": 2
}